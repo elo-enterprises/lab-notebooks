{
 "cells": [
  {
   "cell_type": "code",
   "execution_count": 5,
   "metadata": {},
   "outputs": [
    {
     "data": {
      "text/html": [
       "\n",
       "<h1>hello DOM!</h1>\n"
      ],
      "text/plain": [
       "<IPython.core.display.HTML object>"
      ]
     },
     "execution_count": 5,
     "metadata": {},
     "output_type": "execute_result"
    }
   ],
   "source": [
    "# Example of HTML\n",
    "from IPython.display import display, Javascript, HTML\n",
    "\n",
    "HTML('''\n",
    "<h1>hello DOM!</h1>\n",
    "''')"
   ]
  },
  {
   "cell_type": "code",
   "execution_count": 4,
   "metadata": {},
   "outputs": [
    {
     "data": {
      "text/html": [
       "\n",
       "<style scoped>\n",
       ".steely {\n",
       "    color: steelblue;\n",
       "    font: 16px script;\n",
       "}\n",
       "</style>\n",
       "<h1 class=\"steely\">Hello2 DOM!</h1>\n"
      ],
      "text/plain": [
       "<IPython.core.display.HTML object>"
      ]
     },
     "execution_count": 4,
     "metadata": {},
     "output_type": "execute_result"
    }
   ],
   "source": [
    "# Example of HTML + CSS\n",
    "from IPython.display import display, Javascript, HTML\n",
    "import json\n",
    "\n",
    "HTML('''\n",
    "<style scoped>\n",
    ".steely {\n",
    "    color: steelblue;\n",
    "    font: 16px script;\n",
    "}\n",
    "</style>\n",
    "<h1 class=\"steely\">Hello2 DOM!</h1>\n",
    "''')"
   ]
  },
  {
   "cell_type": "code",
   "execution_count": null,
   "metadata": {},
   "outputs": [],
   "source": [
    "from IPython.display import display, Javascript, HTML\n",
    "from string import Template\n",
    "import pandas as pd\n",
    "import json, random\n",
    "\n",
    "HTML('<script src=\"lib/d3/d3.min.js\"></script>')\n",
    "\n"
   ]
  },
  {
   "cell_type": "code",
   "execution_count": 8,
   "metadata": {},
   "outputs": [
    {
     "data": {
      "text/html": [
       "\n",
       "\n",
       "\n",
       "\n"
      ],
      "text/plain": [
       "<IPython.core.display.HTML object>"
      ]
     },
     "execution_count": 8,
     "metadata": {},
     "output_type": "execute_result"
    }
   ],
   "source": [
    "#https://www.bogotobogo.com/python/IPython/iPython_Jupyter_Notebook_with_Embedded_D3.php\n",
    "from IPython.core.display import display, HTML\n",
    "from string import Template\n",
    "import json\n",
    "\n",
    "HTML('')\n",
    "\n",
    "css_text = '''\n",
    "'''\n",
    "\n",
    "js_text_template = Template('''\n",
    "       var bogoSVG = d3.select(\"#$bogoanimation\") \n",
    "          .append(\"svg\")\n",
    "          .attr(\"width\", 300)\n",
    "          .attr(\"height\", 300);    \n",
    "\n",
    "      var data = $python_data ;\n",
    "       bogoSVG.append(\"circle\")\n",
    "          .style(\"stroke\", \"gray\")\n",
    "          .style(\"fill\", \"cyan\")\n",
    "          .attr(\"r\", data[0]['r'])\n",
    "          .attr(\"cx\", data[0]['cx'])\n",
    "          .attr(\"cy\", data[0]['cy'])\n",
    "          .transition()\n",
    "             .delay(100)\n",
    "             .duration(10000)  \n",
    "             .attr(\"r\", 10)\n",
    "             .attr(\"cx\", data[0]['cx'])\n",
    "             .style(\"fill\", \"blue\"); \n",
    "''')\n",
    "\n",
    "html_template = Template('''\n",
    "\n",
    "\n",
    "\n",
    "''')\n",
    "\n",
    "js_text = js_text_template.substitute({'python_data': json.dumps([{'r': 130, 'cx': 150, 'cy': 150}]),\n",
    "                                       'bogoanimation': 'animation'})\n",
    "\n",
    "HTML(html_template.substitute({'css_text': css_text, 'js_text': js_text}))"
   ]
  },
  {
   "cell_type": "code",
   "execution_count": null,
   "metadata": {},
   "outputs": [],
   "source": [
    "# %%javascript\n",
    "# require.config({\n",
    "#     paths: {\n",
    "#         d3: 'https://d3js.org/d3.v5.min'\n",
    "#     }\n",
    "# });\n",
    "\n",
    "# %%javascript\n",
    "# (function(element) {\n",
    "#     require(['d3'], function(d3) {   \n",
    "#         var data = [1, 2, 4, 8, 16, 8, 4, 2, 1]\n",
    "\n",
    "#         var svg = d3.select(element.get(0)).append('svg')\n",
    "#             .attr('width', 400)\n",
    "#             .attr('height', 200);\n",
    "#         svg.selectAll('circle')\n",
    "#             .data(data)\n",
    "#             .enter()\n",
    "#             .append('circle')\n",
    "#             .attr(\"cx\", function(d, i) {return 40 * (i + 1);})\n",
    "#             .attr(\"cy\", function(d, i) {return 100 + 30 * (i % 3 - 1);})\n",
    "#             .style(\"fill\", \"#1570a4\")\n",
    "#             .transition().duration(2000)\n",
    "#             .attr(\"r\", function(d) {return 2*d;})\n",
    "#         ;\n",
    "#     })\n",
    "# })(element);"
   ]
  }
 ],
 "metadata": {
  "kernelspec": {
   "display_name": "Python 3",
   "language": "python",
   "name": "python3"
  },
  "language_info": {
   "codemirror_mode": {
    "name": "ipython",
    "version": 3
   },
   "file_extension": ".py",
   "mimetype": "text/x-python",
   "name": "python",
   "nbconvert_exporter": "python",
   "pygments_lexer": "ipython3",
   "version": "3.7.6"
  }
 },
 "nbformat": 4,
 "nbformat_minor": 4
}
